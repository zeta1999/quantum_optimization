{
 "cells": [
  {
   "cell_type": "code",
   "execution_count": 1,
   "metadata": {},
   "outputs": [],
   "source": [
    "import networkx as nx\n",
    "import numpy as np\n",
    "from scipy.optimize import minimize"
   ]
  },
  {
   "cell_type": "code",
   "execution_count": 2,
   "metadata": {},
   "outputs": [],
   "source": [
    "import qaoa_tn"
   ]
  },
  {
   "cell_type": "markdown",
   "metadata": {},
   "source": [
    "This demo computes the expectation $\\langle +|U^{\\dagger}(\\beta_1, \\gamma_1, \\ldots, \\beta_p, \\gamma_p)\\frac{1 - Z_iZ_j}{2}U(\\beta_1, \\gamma_1, \\ldots, \\beta_p, \\gamma_p)|+\\rangle$ for an edge $\\{i, j\\}$ whose $p$-neighbourhood is a tree. QAOA parameters $\\beta_1, \\gamma_1, \\ldots, \\beta_p, \\gamma_p$ were usually taken from `arXiV:1909.02559`, except when they seemed to be erroneous (e.g. 3-regular graphs, $p = 2$).\n",
    "\n",
    "The computation is carried out using a Tree Tensor Network contraction."
   ]
  },
  {
   "cell_type": "markdown",
   "metadata": {},
   "source": [
    "# Expectation calculation for optimal parameters for different degrees and $p$."
   ]
  },
  {
   "cell_type": "markdown",
   "metadata": {},
   "source": [
    "### 3-regular graphs"
   ]
  },
  {
   "cell_type": "markdown",
   "metadata": {},
   "source": [
    "#### $p = 1$"
   ]
  },
  {
   "cell_type": "code",
   "execution_count": 3,
   "metadata": {},
   "outputs": [
    {
     "data": {
      "text/plain": [
       "0.692450089621439"
      ]
     },
     "execution_count": 3,
     "metadata": {},
     "output_type": "execute_result"
    }
   ],
   "source": [
    "tree, tree_root = qaoa_tn.regular_prefix_tree(3, 5)\n",
    "tensors_by_root = qaoa_tn.qaoa_tensor_network(\n",
    "    betas=[2 * (1.1781)],\n",
    "    gammas=[2.5261],\n",
    "    tree=tree,\n",
    "    tree_root=tree_root,\n",
    "    extra_operators={\n",
    "        tree_root: np.array([[1, 0], [0, -1]]),\n",
    "        qaoa_tn.edge_choices_to_node(tree, tree_root, [0]): np.array([[1, 0], [0, -1]])\n",
    "    }\n",
    ")\n",
    "0.5 * (1 - qaoa_tn.contract_children(tree, tree_root, tensors_by_root, []).tensor.real)"
   ]
  },
  {
   "cell_type": "markdown",
   "metadata": {},
   "source": [
    "#### $p = 2$"
   ]
  },
  {
   "cell_type": "code",
   "execution_count": 4,
   "metadata": {},
   "outputs": [
    {
     "data": {
      "text/plain": [
       "0.7559064492764025"
      ]
     },
     "execution_count": 4,
     "metadata": {},
     "output_type": "execute_result"
    }
   ],
   "source": [
    "tree, tree_root = qaoa_tn.regular_prefix_tree(3, 5)\n",
    "tensors_by_root = qaoa_tn.qaoa_tensor_network(\n",
    "    betas=[2 * (2.12560098), 2 * (-0.2923307)],\n",
    "    gammas=[-0.4878635, 2.24375996],\n",
    "    tree=tree,\n",
    "    tree_root=tree_root,\n",
    "    extra_operators={\n",
    "        tree_root: np.array([[1, 0], [0, -1]]),\n",
    "        qaoa_tn.edge_choices_to_node(tree, tree_root, [0]): np.array([[1, 0], [0, -1]])\n",
    "    }\n",
    ")\n",
    "0.5 * (1 - qaoa_tn.contract_children(tree, tree_root, tensors_by_root, []).tensor.real)"
   ]
  },
  {
   "cell_type": "markdown",
   "metadata": {},
   "source": [
    "#### $p = 3$"
   ]
  },
  {
   "cell_type": "code",
   "execution_count": 5,
   "metadata": {},
   "outputs": [
    {
     "data": {
      "text/plain": [
       "0.7923984115834075"
      ]
     },
     "execution_count": 5,
     "metadata": {},
     "output_type": "execute_result"
    }
   ],
   "source": [
    "tree, tree_root = qaoa_tn.regular_prefix_tree(3, 5)\n",
    "tensors_by_root = qaoa_tn.qaoa_tensor_network(\n",
    "    betas=[2 * (0.9619), 2 * (2.6820), 2 * (1.8064)],\n",
    "    gammas=[2.7197, 5.4848, 2.2046],\n",
    "    tree=tree,\n",
    "    tree_root=tree_root,\n",
    "    extra_operators={\n",
    "        tree_root: np.array([[1, 0], [0, -1]]),\n",
    "        qaoa_tn.edge_choices_to_node(tree, tree_root, [0]): np.array([[1, 0], [0, -1]])\n",
    "    }\n",
    ")\n",
    "0.5 * (1 - qaoa_tn.contract_children(tree, tree_root, tensors_by_root, []).tensor.real)"
   ]
  },
  {
   "cell_type": "markdown",
   "metadata": {},
   "source": [
    "#### $p = 4$"
   ]
  },
  {
   "cell_type": "code",
   "execution_count": 6,
   "metadata": {},
   "outputs": [
    {
     "data": {
      "text/plain": [
       "0.8168765522353079"
      ]
     },
     "execution_count": 6,
     "metadata": {},
     "output_type": "execute_result"
    }
   ],
   "source": [
    "tree, tree_root = qaoa_tn.regular_prefix_tree(3, 5)\n",
    "tensors_by_root = qaoa_tn.qaoa_tensor_network(\n",
    "    betas=[2 * (5.6836), 2 * (1.1365), 2 * (5.9864), 2 * (4.8714)],\n",
    "    gammas=[0.4088, 0.7806, 0.9880, 4.2985],\n",
    "    tree=tree,\n",
    "    tree_root=tree_root,\n",
    "    extra_operators={\n",
    "        tree_root: np.array([[1, 0], [0, -1]]),\n",
    "        qaoa_tn.edge_choices_to_node(tree, tree_root, [0]): np.array([[1, 0], [0, -1]])\n",
    "    }\n",
    ")\n",
    "0.5 * (1 - qaoa_tn.contract_children(tree, tree_root, tensors_by_root, []).tensor.real)"
   ]
  },
  {
   "cell_type": "markdown",
   "metadata": {},
   "source": [
    "### 4-regular graphs"
   ]
  },
  {
   "cell_type": "markdown",
   "metadata": {},
   "source": [
    "#### $p = 1$"
   ]
  },
  {
   "cell_type": "code",
   "execution_count": 7,
   "metadata": {
    "scrolled": true
   },
   "outputs": [
    {
     "data": {
      "text/plain": [
       "0.6623797504323305"
      ]
     },
     "execution_count": 7,
     "metadata": {},
     "output_type": "execute_result"
    }
   ],
   "source": [
    "tree, tree_root = qaoa_tn.regular_prefix_tree(4, 5)\n",
    "tensors_by_root = qaoa_tn.qaoa_tensor_network(\n",
    "    betas=[2 * (0.3926)],\n",
    "    gammas=[2.6180],\n",
    "    tree=tree,\n",
    "    tree_root=tree_root,\n",
    "    extra_operators={\n",
    "        tree_root: np.array([[1, 0], [0, -1]]),\n",
    "        qaoa_tn.edge_choices_to_node(tree, tree_root, [0]): np.array([[1, 0], [0, -1]])\n",
    "    }\n",
    ")\n",
    "0.5 * (1 - qaoa_tn.contract_children(tree, tree_root, tensors_by_root, []).tensor.real)"
   ]
  },
  {
   "cell_type": "markdown",
   "metadata": {},
   "source": [
    "#### $p = 2$"
   ]
  },
  {
   "cell_type": "code",
   "execution_count": 8,
   "metadata": {},
   "outputs": [
    {
     "data": {
      "text/plain": [
       "0.7160916326644322"
      ]
     },
     "execution_count": 8,
     "metadata": {},
     "output_type": "execute_result"
    }
   ],
   "source": [
    "tree, tree_root = qaoa_tn.regular_prefix_tree(4, 5)\n",
    "tensors_by_root = qaoa_tn.qaoa_tensor_network(\n",
    "    betas=[2 * (1.03673826), 2 * (1.2878541)],\n",
    "    gammas=[0.40782806, 0.73975208],\n",
    "    tree=tree,\n",
    "    tree_root=tree_root,\n",
    "    extra_operators={\n",
    "        tree_root: np.array([[1, 0], [0, -1]]),\n",
    "        qaoa_tn.edge_choices_to_node(tree, tree_root, [0]): np.array([[1, 0], [0, -1]])\n",
    "    }\n",
    ")\n",
    "0.5 * (1 - qaoa_tn.contract_children(tree, tree_root, tensors_by_root, []).tensor.real)"
   ]
  },
  {
   "cell_type": "markdown",
   "metadata": {},
   "source": [
    "#### $p = 3$"
   ]
  },
  {
   "cell_type": "code",
   "execution_count": 9,
   "metadata": {},
   "outputs": [
    {
     "data": {
      "text/plain": [
       "0.7485644541153422"
      ]
     },
     "execution_count": 9,
     "metadata": {},
     "output_type": "execute_result"
    }
   ],
   "source": [
    "tree, tree_root = qaoa_tn.regular_prefix_tree(4, 5)\n",
    "tensors_by_root = qaoa_tn.qaoa_tensor_network(\n",
    "    betas=[2 * (0.9829), 2 * (2.7184), 2 * (2.9186)],\n",
    "    gammas=[0.3545, 3.7929, 3.8958],\n",
    "    tree=tree,\n",
    "    tree_root=tree_root,\n",
    "    extra_operators={\n",
    "        tree_root: np.array([[1, 0], [0, -1]]),\n",
    "        qaoa_tn.edge_choices_to_node(tree, tree_root, [0]): np.array([[1, 0], [0, -1]])\n",
    "    }\n",
    ")\n",
    "0.5 * (1 - qaoa_tn.contract_children(tree, tree_root, tensors_by_root, []).tensor.real)"
   ]
  },
  {
   "cell_type": "markdown",
   "metadata": {},
   "source": [
    "### 5-regular graphs"
   ]
  },
  {
   "cell_type": "markdown",
   "metadata": {},
   "source": [
    "#### $p = 1$"
   ]
  },
  {
   "cell_type": "code",
   "execution_count": 10,
   "metadata": {},
   "outputs": [
    {
     "data": {
      "text/plain": [
       "0.6431083381605981"
      ]
     },
     "execution_count": 10,
     "metadata": {},
     "output_type": "execute_result"
    }
   ],
   "source": [
    "tree, tree_root = qaoa_tn.regular_prefix_tree(5, 5)\n",
    "tensors_by_root = qaoa_tn.qaoa_tensor_network(\n",
    "    betas=[2 * (0.3926)],\n",
    "    gammas=[3.6052],\n",
    "    tree=tree,\n",
    "    tree_root=tree_root,\n",
    "    extra_operators={\n",
    "        tree_root: np.array([[1, 0], [0, -1]]),\n",
    "        qaoa_tn.edge_choices_to_node(tree, tree_root, [0]): np.array([[1, 0], [0, -1]])\n",
    "    }\n",
    ")\n",
    "0.5 * (1 - qaoa_tn.contract_children(tree, tree_root, tensors_by_root, []).tensor.real)"
   ]
  },
  {
   "cell_type": "markdown",
   "metadata": {},
   "source": [
    "#### $p = 2$"
   ]
  },
  {
   "cell_type": "code",
   "execution_count": 11,
   "metadata": {},
   "outputs": [
    {
     "data": {
      "text/plain": [
       "0.6907089402067914"
      ]
     },
     "execution_count": 11,
     "metadata": {},
     "output_type": "execute_result"
    }
   ],
   "source": [
    "tree, tree_root = qaoa_tn.regular_prefix_tree(5, 5)\n",
    "tensors_by_root = qaoa_tn.qaoa_tensor_network(\n",
    "    betas=[2 * (0.5241), 2 * (2.8628)],\n",
    "    gammas=[3.5003, 3.7866],\n",
    "    tree=tree,\n",
    "    tree_root=tree_root,\n",
    "    extra_operators={\n",
    "        tree_root: np.array([[1, 0], [0, -1]]),\n",
    "        qaoa_tn.edge_choices_to_node(tree, tree_root, [0]): np.array([[1, 0], [0, -1]])\n",
    "    }\n",
    ")\n",
    "0.5 * (1 - qaoa_tn.contract_children(tree, tree_root, tensors_by_root, []).tensor.real)"
   ]
  },
  {
   "cell_type": "markdown",
   "metadata": {},
   "source": [
    "# Optimizing for $d = 3, p = 2$"
   ]
  },
  {
   "cell_type": "code",
   "execution_count": 18,
   "metadata": {},
   "outputs": [],
   "source": [
    "counter = 0\n",
    "def qaoa_p_2(parameters):\n",
    "    global counter\n",
    "    print(\"evaluation {}\".format(counter))\n",
    "    counter += 1\n",
    "    tree, tree_root = qaoa_tn.regular_prefix_tree(3, 5)\n",
    "    tensors_by_root = qaoa_tn.qaoa_tensor_network(\n",
    "        betas=2 * parameters[:2],\n",
    "        gammas=parameters[2:],\n",
    "        tree=tree,\n",
    "        tree_root=tree_root,\n",
    "        extra_operators={\n",
    "            tree_root: np.array([[1, 0], [0, -1]]),\n",
    "            qaoa_tn.edge_choices_to_node(tree, tree_root, [0]): np.array([[1, 0], [0, -1]])\n",
    "        }\n",
    "    )\n",
    "    return 0.5 * (1 - qaoa_tn.contract_children(tree, tree_root, tensors_by_root, []).tensor.real)"
   ]
  },
  {
   "cell_type": "code",
   "execution_count": 19,
   "metadata": {},
   "outputs": [
    {
     "name": "stdout",
     "output_type": "stream",
     "text": [
      "evaluation 0\n",
      "evaluation 1\n",
      "evaluation 2\n",
      "evaluation 3\n",
      "evaluation 4\n",
      "evaluation 5\n",
      "evaluation 6\n",
      "evaluation 7\n",
      "evaluation 8\n",
      "evaluation 9\n",
      "evaluation 10\n",
      "evaluation 11\n",
      "evaluation 12\n",
      "evaluation 13\n",
      "evaluation 14\n",
      "evaluation 15\n",
      "evaluation 16\n",
      "evaluation 17\n",
      "evaluation 18\n",
      "evaluation 19\n",
      "evaluation 20\n",
      "evaluation 21\n",
      "evaluation 22\n",
      "evaluation 23\n",
      "evaluation 24\n",
      "evaluation 25\n",
      "evaluation 26\n",
      "evaluation 27\n",
      "evaluation 28\n",
      "evaluation 29\n",
      "evaluation 30\n",
      "evaluation 31\n",
      "evaluation 32\n",
      "evaluation 33\n",
      "evaluation 34\n",
      "evaluation 35\n",
      "evaluation 36\n",
      "evaluation 37\n",
      "evaluation 38\n",
      "evaluation 39\n",
      "evaluation 40\n",
      "evaluation 41\n",
      "evaluation 42\n",
      "evaluation 43\n",
      "evaluation 44\n",
      "evaluation 45\n",
      "evaluation 46\n",
      "evaluation 47\n",
      "evaluation 48\n",
      "evaluation 49\n",
      "evaluation 50\n",
      "evaluation 51\n",
      "evaluation 52\n",
      "evaluation 53\n",
      "evaluation 54\n",
      "evaluation 55\n",
      "evaluation 56\n",
      "evaluation 57\n",
      "evaluation 58\n",
      "evaluation 59\n",
      "evaluation 60\n",
      "evaluation 61\n",
      "evaluation 62\n",
      "evaluation 63\n",
      "evaluation 64\n",
      "evaluation 65\n",
      "evaluation 66\n",
      "evaluation 67\n",
      "evaluation 68\n",
      "evaluation 69\n",
      "evaluation 70\n",
      "evaluation 71\n",
      "evaluation 72\n",
      "evaluation 73\n",
      "evaluation 74\n",
      "evaluation 75\n",
      "evaluation 76\n",
      "evaluation 77\n",
      "evaluation 78\n",
      "evaluation 79\n",
      "evaluation 80\n",
      "evaluation 81\n",
      "evaluation 82\n",
      "evaluation 83\n",
      "evaluation 84\n",
      "evaluation 85\n",
      "evaluation 86\n",
      "evaluation 87\n",
      "evaluation 88\n",
      "evaluation 89\n",
      "evaluation 90\n",
      "evaluation 91\n",
      "evaluation 92\n",
      "evaluation 93\n",
      "evaluation 94\n",
      "evaluation 95\n",
      "evaluation 96\n",
      "evaluation 97\n",
      "evaluation 98\n",
      "evaluation 99\n",
      "evaluation 100\n",
      "evaluation 101\n",
      "evaluation 102\n",
      "evaluation 103\n",
      "evaluation 104\n",
      "evaluation 105\n",
      "evaluation 106\n",
      "evaluation 107\n",
      "evaluation 108\n",
      "evaluation 109\n",
      "evaluation 110\n",
      "evaluation 111\n",
      "evaluation 112\n",
      "evaluation 113\n",
      "evaluation 114\n",
      "evaluation 115\n",
      "evaluation 116\n",
      "evaluation 117\n",
      "evaluation 118\n",
      "evaluation 119\n",
      "evaluation 120\n",
      "evaluation 121\n",
      "evaluation 122\n",
      "evaluation 123\n",
      "evaluation 124\n",
      "evaluation 125\n",
      "evaluation 126\n",
      "evaluation 127\n",
      "evaluation 128\n",
      "evaluation 129\n",
      "evaluation 130\n",
      "evaluation 131\n",
      "evaluation 132\n",
      "evaluation 133\n",
      "evaluation 134\n",
      "evaluation 135\n",
      "evaluation 136\n",
      "evaluation 137\n",
      "evaluation 138\n",
      "evaluation 139\n",
      "evaluation 140\n",
      "evaluation 141\n",
      "evaluation 142\n",
      "evaluation 143\n",
      "evaluation 144\n",
      "evaluation 145\n",
      "evaluation 146\n",
      "evaluation 147\n",
      "evaluation 148\n",
      "evaluation 149\n",
      "evaluation 150\n",
      "evaluation 151\n",
      "evaluation 152\n",
      "evaluation 153\n",
      "evaluation 154\n",
      "evaluation 155\n",
      "evaluation 156\n",
      "evaluation 157\n",
      "evaluation 158\n",
      "evaluation 159\n",
      "evaluation 160\n",
      "evaluation 161\n",
      "evaluation 162\n",
      "evaluation 163\n"
     ]
    },
    {
     "data": {
      "text/plain": [
       "     fun: -0.7559064500475134\n",
       "   maxcv: 0.0\n",
       " message: 'Optimization terminated successfully.'\n",
       "    nfev: 164\n",
       "  status: 1\n",
       " success: True\n",
       "       x: array([-2.12574484, -0.29247003,  0.48780786,  0.89783982])"
      ]
     },
     "execution_count": 19,
     "metadata": {},
     "output_type": "execute_result"
    }
   ],
   "source": [
    "minimize(\n",
    "    lambda parameters: -qaoa_p_2(parameters),\n",
    "    np.random.randn(4),\n",
    "    method=\"COBYLA\",\n",
    "    options={\"maxiter\": 250}\n",
    ")"
   ]
  },
  {
   "cell_type": "markdown",
   "metadata": {},
   "source": [
    "# Optimizing for $d = 4, p = 2$"
   ]
  },
  {
   "cell_type": "code",
   "execution_count": 14,
   "metadata": {},
   "outputs": [],
   "source": [
    "counter = 0\n",
    "def qaoa_p_2(parameters):\n",
    "    global counter\n",
    "    print(\"evaluation {}\".format(counter))\n",
    "    counter += 1\n",
    "    tree, tree_root = qaoa_tn.regular_prefix_tree(4, 5)\n",
    "    tensors_by_root = qaoa_tn.qaoa_tensor_network(\n",
    "        betas=2 * parameters[:2],\n",
    "        gammas=parameters[2:],\n",
    "        tree=tree,\n",
    "        tree_root=tree_root,\n",
    "        extra_operators={\n",
    "            tree_root: np.array([[1, 0], [0, -1]]),\n",
    "            qaoa_tn.edge_choices_to_node(tree, tree_root, [0]): np.array([[1, 0], [0, -1]])\n",
    "        }\n",
    "    )\n",
    "    return 0.5 * (1 - qaoa_tn.contract_children(tree, tree_root, tensors_by_root, []).tensor.real)"
   ]
  },
  {
   "cell_type": "code",
   "execution_count": 16,
   "metadata": {
    "scrolled": true
   },
   "outputs": [
    {
     "name": "stdout",
     "output_type": "stream",
     "text": [
      "evaluation 307\n",
      "evaluation 308\n",
      "evaluation 309\n",
      "evaluation 310\n",
      "evaluation 311\n",
      "evaluation 312\n",
      "evaluation 313\n",
      "evaluation 314\n",
      "evaluation 315\n",
      "evaluation 316\n",
      "evaluation 317\n",
      "evaluation 318\n",
      "evaluation 319\n",
      "evaluation 320\n",
      "evaluation 321\n",
      "evaluation 322\n",
      "evaluation 323\n",
      "evaluation 324\n",
      "evaluation 325\n",
      "evaluation 326\n",
      "evaluation 327\n",
      "evaluation 328\n",
      "evaluation 329\n",
      "evaluation 330\n",
      "evaluation 331\n",
      "evaluation 332\n",
      "evaluation 333\n",
      "evaluation 334\n",
      "evaluation 335\n",
      "evaluation 336\n",
      "evaluation 337\n",
      "evaluation 338\n",
      "evaluation 339\n",
      "evaluation 340\n",
      "evaluation 341\n",
      "evaluation 342\n",
      "evaluation 343\n",
      "evaluation 344\n",
      "evaluation 345\n",
      "evaluation 346\n",
      "evaluation 347\n",
      "evaluation 348\n",
      "evaluation 349\n",
      "evaluation 350\n",
      "evaluation 351\n",
      "evaluation 352\n",
      "evaluation 353\n",
      "evaluation 354\n",
      "evaluation 355\n",
      "evaluation 356\n",
      "evaluation 357\n",
      "evaluation 358\n",
      "evaluation 359\n",
      "evaluation 360\n",
      "evaluation 361\n",
      "evaluation 362\n",
      "evaluation 363\n",
      "evaluation 364\n",
      "evaluation 365\n",
      "evaluation 366\n",
      "evaluation 367\n",
      "evaluation 368\n",
      "evaluation 369\n",
      "evaluation 370\n",
      "evaluation 371\n",
      "evaluation 372\n",
      "evaluation 373\n",
      "evaluation 374\n",
      "evaluation 375\n",
      "evaluation 376\n",
      "evaluation 377\n",
      "evaluation 378\n",
      "evaluation 379\n",
      "evaluation 380\n",
      "evaluation 381\n",
      "evaluation 382\n",
      "evaluation 383\n",
      "evaluation 384\n",
      "evaluation 385\n",
      "evaluation 386\n",
      "evaluation 387\n",
      "evaluation 388\n",
      "evaluation 389\n",
      "evaluation 390\n",
      "evaluation 391\n",
      "evaluation 392\n",
      "evaluation 393\n",
      "evaluation 394\n",
      "evaluation 395\n",
      "evaluation 396\n"
     ]
    },
    {
     "data": {
      "text/plain": [
       "     fun: -0.7160916291555353\n",
       "   maxcv: 0.0\n",
       " message: 'Optimization terminated successfully.'\n",
       "    nfev: 90\n",
       "  status: 1\n",
       " success: True\n",
       "       x: array([ 0.53408223, -1.28791746, -0.40784181, -0.73974373])"
      ]
     },
     "execution_count": 16,
     "metadata": {},
     "output_type": "execute_result"
    }
   ],
   "source": [
    "minimize(\n",
    "    lambda parameters: -qaoa_p_2(parameters),\n",
    "    np.random.randn(4),\n",
    "    method=\"COBYLA\",\n",
    "    options={\"maxiter\": 350}\n",
    ")"
   ]
  }
 ],
 "metadata": {
  "kernelspec": {
   "display_name": "Python 3",
   "language": "python",
   "name": "python3"
  },
  "language_info": {
   "codemirror_mode": {
    "name": "ipython",
    "version": 3
   },
   "file_extension": ".py",
   "mimetype": "text/x-python",
   "name": "python",
   "nbconvert_exporter": "python",
   "pygments_lexer": "ipython3",
   "version": "3.7.5"
  }
 },
 "nbformat": 4,
 "nbformat_minor": 2
}
